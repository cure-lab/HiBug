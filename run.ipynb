{
 "cells": [
  {
   "cell_type": "code",
   "execution_count": null,
   "metadata": {},
   "outputs": [],
   "source": [
    "import numpy as np\n",
    "from utils.defines import *\n",
    "import os\n",
    "import json"
   ]
  },
  {
   "cell_type": "code",
   "execution_count": null,
   "metadata": {},
   "outputs": [],
   "source": [
    "# Load images, labels, predictions\n",
    "images = []\n",
    "labels = []\n",
    "predictions = []\n",
    "label_dict = {} # label: name of label, i.e., {0: dog, 1: cat}"
   ]
  },
  {
   "cell_type": "code",
   "execution_count": null,
   "metadata": {},
   "outputs": [],
   "source": [
    "# The attribute you picked from prepare.py \n",
    "picked_attribute = []\n",
    "types = []\n",
    "attribute_dict = {}\n",
    "main_object = \"\""
   ]
  },
  {
   "cell_type": "code",
   "execution_count": null,
   "metadata": {},
   "outputs": [],
   "source": [
    "# Define train_idx, valid_idx, unlabel_idx, data split\n",
    "train_idx = []\n",
    "valid_idx = []\n",
    "split = [UNLABELED for i in range(len(images))]\n",
    "for i in train_idx:\n",
    "    split[i] = TRAIN\n",
    "for i in valid_idx:\n",
    "    split[i] = VALID"
   ]
  },
  {
   "cell_type": "code",
   "execution_count": null,
   "metadata": {},
   "outputs": [],
   "source": [
    "# Build a base corpus\n",
    "from utils.gpt import get_des_question, get_binary_question,get_des_prompt\n",
    "from processData.Corpus import emptyAttribute\n",
    "for name,data_type in zip(picked_attribute,types):\n",
    "    attribute_dict[name] = emptyAttribute()\n",
    "    attribute_dict[name]['type'] = data_type\n",
    "    if data_type == 'description':\n",
    "        attribute_dict[name]['question'] = get_des_question(main_object,name)\n",
    "        attribute_dict[name]['prompt'] = [get_des_prompt(main_object,name),]\n",
    "    else:\n",
    "        attribute_dict[name]['question'] = get_binary_question(main_object,name)\n",
    "\n",
    "# Although GPT is amazing, it is better to double-check the corpus base\n",
    "for key, content in attribute_dict.items():\n",
    "    print(key, content)\n",
    "\n",
    "f = open(\"exampleData/corpus_base.json\" ,'w')\n",
    "f.write(json.dumps(attribute_dict,indent=4))"
   ]
  },
  {
   "cell_type": "code",
   "execution_count": null,
   "metadata": {},
   "outputs": [],
   "source": [
    "# Find potential attribute value for this task\n",
    "from processData.Corpus import AttributeCorpus\n",
    "corpus = AttributeCorpus(datas=images,attribute_dict=\"exampleData/corpus_base.json\")\n",
    "corpus.auto_corpus()\n",
    "corpus.export_json(file=\"exampleData/corpus.json\")"
   ]
  },
  {
   "cell_type": "code",
   "execution_count": null,
   "metadata": {},
   "outputs": [],
   "source": [
    "# Get the attribute of every data\n",
    "from processData.AttributeSelection import AttributeSelection\n",
    "AS = AttributeSelection(images, labels, corpus_path=\"exampleData/corpus.json\",label_names_dict=label_dict)\n",
    "AS.match_description_to_data()\n",
    "AS.save_attributes(\"exampleData/attribute.json\")"
   ]
  },
  {
   "cell_type": "code",
   "execution_count": null,
   "metadata": {},
   "outputs": [],
   "source": [
    "# User Interface, require 2D feature as input\n",
    "from interaction.interaction import Interaction\n",
    "embeddings = np.load(\"\") # if not 2D, we will run TSNE automatically\n",
    "interaction = Interaction(\n",
    "   datas=images,\n",
    "   labels=labels,\n",
    "   predictions=predictions,\n",
    "   embeddings=embeddings,\n",
    "   tags=split,\n",
    "   attributes_dict_path=\"exampleData/attribute.json\"\n",
    ")\n",
    "interaction.interaction()\n",
    " "
   ]
  },
  {
   "cell_type": "code",
   "execution_count": null,
   "metadata": {},
   "outputs": [],
   "source": [
    "# Diagnose \n",
    "from processData.Diagnose import ModelDiagnose\n",
    "MD = ModelDiagnose(labels, predictions, split, \"exampleData/attribute.json\")\n",
    "MD.detect_failure_by_label()\n",
    "MD.detect_prediction_correlation()\n",
    "MD.detect_failure_prediction_correlation()\n",
    "MD.detect_failure_in_attribute_combination()"
   ]
  },
  {
   "cell_type": "code",
   "execution_count": null,
   "metadata": {},
   "outputs": [],
   "source": [
    "# Repair\n",
    "selected_unlabeled_idx = MD.unlabel_selection()\n",
    "generation_attribute_dict = MD.date_generation()"
   ]
  }
 ],
 "metadata": {
  "language_info": {
   "name": "python"
  },
  "orig_nbformat": 4
 },
 "nbformat": 4,
 "nbformat_minor": 2
}
