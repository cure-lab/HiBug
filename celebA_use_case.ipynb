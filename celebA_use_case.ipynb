{
 "cells": [
  {
   "cell_type": "code",
   "execution_count": 1,
   "metadata": {},
   "outputs": [
    {
     "name": "stdout",
     "output_type": "stream",
     "text": [
      "202599 80000 20000 80000\n"
     ]
    }
   ],
   "source": [
    "# Load images, predictions, labels\n",
    "\"\"\"\n",
    "Here is an example use case of our system.\n",
    "If you also want to use UI, you need to get celebA dataset first. At http://mmlab.ie.cuhk.edu.hk/projects/CelebA.html\n",
    "\n",
    "\"\"\"\n",
    "import numpy as np\n",
    "from utils.defines import *\n",
    "import os\n",
    "os.environ['CUDA_VISIBLE_DEVICES'] = '0'\n",
    "f = open(\"exampleData/celeba/list_attr_celeba.txt\")\n",
    "lines = list(f.readlines())\n",
    "lines = [line.strip('\\n').split(' ')[0] for line in lines]\n",
    "all_datas = ['../img_align_celeba/' + line for line in lines][1:] # celebA images directory\n",
    "train_idx = np.load(\"exampleData/celebA/train_idx.npy\")[:80000]\n",
    "valid_idx = np.arange(len(all_datas))[-100000:-80000]\n",
    "unlabel_idx = np.arange(len(all_datas))[-80000:]\n",
    "print(len(all_datas), len(train_idx), len(valid_idx), len(unlabel_idx))\n",
    "idxs = np.concatenate([train_idx, valid_idx, unlabel_idx], axis=0)\n",
    "# idxs = np.arange(len(all_datas))\n",
    "labels = np.load(\"exampleData/celebA/labels.npy\")[idxs]\n",
    "predictions = np.load(\"exampleData/celebA/predictions.npy\")[idxs]\n",
    "all_datas = [all_datas[i] for i in idxs]\n",
    "split = [TRAIN for i in  train_idx] + [VALID for i in  valid_idx] + [UNLABELED for i in  unlabel_idx]"
   ]
  },
  {
   "cell_type": "code",
   "execution_count": null,
   "metadata": {},
   "outputs": [],
   "source": [
    "\"\"\"\n",
    "Assume we already select some attribute and build a corpus at exampleData/celebA/corpus.json\n",
    "Now we can assign the value under each attribute for every data\n",
    "\n",
    "This part can be skiped (I have saved the file at exampleData/celeba/attribute.json)\n",
    "\n",
    "\"\"\"\n",
    "# from processData.AttributeSelection import AttributeSelection\n",
    "# AS = AttributeSelection(all_datas, labels, corpus_path=\"exampleData/celebA/corpus.json\")\n",
    "# AS.match_description_to_data()\n",
    "# AS.save_attributes(\"exampleData/celeba/attribute.json\")"
   ]
  },
  {
   "cell_type": "code",
   "execution_count": null,
   "metadata": {},
   "outputs": [],
   "source": [
    "\"\"\"\n",
    "Diagnose the model based on 1. attributes, 2. label, 3. predictions\n",
    "\n",
    "\"\"\"\n",
    "# # Diagnose\n",
    "# from processData.Diagnose import ModelDiagnose\n",
    "# MD = ModelDiagnose(labels, predictions, split, \"exampleData/celeba/attribute.json\")\n",
    "# MD.detect_failure_by_label()\n",
    "# MD.detect_prediction_correlation()\n",
    "# MD.detect_failure_prediction_correlation()"
   ]
  },
  {
   "cell_type": "code",
   "execution_count": 2,
   "metadata": {},
   "outputs": [
    {
     "data": {
      "application/vnd.jupyter.widget-view+json": {
       "model_id": "4b45911c664344e89044505d394a5e8a",
       "version_major": 2,
       "version_minor": 0
      },
      "text/plain": [
       "HBox(children=(VBox(children=(HBox(children=(Dropdown(description='Display:', options=('ALL', 'Train', 'Valid'…"
      ]
     },
     "metadata": {},
     "output_type": "display_data"
    }
   ],
   "source": [
    "\"\"\"\n",
    "UI interface, explore the distribution of data, attributes\n",
    "Download the dataset before use it\n",
    "\"\"\"\n",
    "embeddings = np.load(\"exampleData/celebA/2Dfeatures.npy\")\n",
    "embeddings = embeddings[idxs]\n",
    "from interaction.interaction import Interaction\n",
    "interaction = Interaction(\n",
    "   datas=all_datas,\n",
    "   labels=labels,\n",
    "   predictions=predictions,\n",
    "   embeddings=embeddings,\n",
    "   tags=split,\n",
    "   attributes_dict_path=\"exampleData/celebA/attribute.json\"\n",
    ")\n",
    "interaction.interaction()"
   ]
  }
 ],
 "metadata": {
  "interpreter": {
   "hash": "4ae4531026500f286a4a1a9e0b6ec972ee541dc0213b77102b9dc9412992b0b7"
  },
  "kernelspec": {
   "display_name": "Python 3.8.12 ('scinet')",
   "language": "python",
   "name": "python3"
  },
  "language_info": {
   "codemirror_mode": {
    "name": "ipython",
    "version": 3
   },
   "file_extension": ".py",
   "mimetype": "text/x-python",
   "name": "python",
   "nbconvert_exporter": "python",
   "pygments_lexer": "ipython3",
   "version": "3.8.12"
  },
  "orig_nbformat": 4
 },
 "nbformat": 4,
 "nbformat_minor": 2
}
